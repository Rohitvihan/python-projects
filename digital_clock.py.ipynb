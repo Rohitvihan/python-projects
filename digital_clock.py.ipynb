{
 "cells": [
  {
   "cell_type": "code",
   "execution_count": null,
   "id": "ad3e4b02-28e3-424f-afc3-0d05f4aa4000",
   "metadata": {},
   "outputs": [],
   "source": [
    "from tkinter import Tk  # Used to create a window\n",
    "from tkinter import Label  # Used to display text in the window\n",
    "import time  # To get the current time\n",
    "\n",
    "# Create the main window\n",
    "root = Tk()\n",
    "root.title(\"Clock\")  # Set the title of the window\n",
    "\n",
    "# Create the digital clock label\n",
    "digi_clock = Label(root, font=(\"Arial\", 80), bg=\"green\", fg=\"blue\")  # Customize the font, colors, and size\n",
    "digi_clock.pack()  # Pack the label(what we want to write) into the window\n",
    "\n",
    "\n",
    "# Define the function to display the current time\n",
    "def present_time():\n",
    "    display_time = time.strftime(\"%I:%M:%S %p\")  # Format the current time\n",
    "    digi_clock.config(text=display_time)  # Update the label with the current time\n",
    "    digi_clock.after(200, present_time)  # Call this function again after 200 milliseconds\n",
    "\n",
    "# Start the clock\n",
    "present_time()\n",
    "\n",
    "# Run the Tkinter event loop\n",
    "root.mainloop()#without mainloop the script will be terminated immediately after running script\n"
   ]
  },
  {
   "cell_type": "code",
   "execution_count": null,
   "id": "d3483f1e-f194-45ef-9357-ab92d2a499c2",
   "metadata": {},
   "outputs": [],
   "source": []
  }
 ],
 "metadata": {
  "kernelspec": {
   "display_name": "Python 3 (ipykernel)",
   "language": "python",
   "name": "python3"
  },
  "language_info": {
   "codemirror_mode": {
    "name": "ipython",
    "version": 3
   },
   "file_extension": ".py",
   "mimetype": "text/x-python",
   "name": "python",
   "nbconvert_exporter": "python",
   "pygments_lexer": "ipython3",
   "version": "3.11.7"
  }
 },
 "nbformat": 4,
 "nbformat_minor": 5
}
