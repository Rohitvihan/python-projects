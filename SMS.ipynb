{
 "cells": [
  {
   "cell_type": "code",
   "execution_count": 1,
   "id": "f5b9a292-8018-43cd-b9e5-28f91cb2e899",
   "metadata": {},
   "outputs": [
    {
     "name": "stdout",
     "output_type": "stream",
     "text": [
      "\n",
      "Student Management System\n",
      "1. Add Student\n",
      "2. Display Students\n",
      "3. Search Student\n",
      "4. Delete Student\n",
      "5. Update Student\n",
      "6. Exit\n"
     ]
    },
    {
     "name": "stdin",
     "output_type": "stream",
     "text": [
      "Enter your choice (1-6):  1\n",
      "Enter Roll Number:  1\n",
      "Enter Name:  rohit\n",
      "Enter Age:  20\n"
     ]
    },
    {
     "name": "stdout",
     "output_type": "stream",
     "text": [
      "Student with roll number 1 added successfully.\n",
      "\n",
      "Student Management System\n",
      "1. Add Student\n",
      "2. Display Students\n",
      "3. Search Student\n",
      "4. Delete Student\n",
      "5. Update Student\n",
      "6. Exit\n"
     ]
    },
    {
     "name": "stdin",
     "output_type": "stream",
     "text": [
      "Enter your choice (1-6):  1\n",
      "Enter Roll Number:  2\n",
      "Enter Name:  vihan\n",
      "Enter Age:  20\n"
     ]
    },
    {
     "name": "stdout",
     "output_type": "stream",
     "text": [
      "Student with roll number 2 added successfully.\n",
      "\n",
      "Student Management System\n",
      "1. Add Student\n",
      "2. Display Students\n",
      "3. Search Student\n",
      "4. Delete Student\n",
      "5. Update Student\n",
      "6. Exit\n"
     ]
    },
    {
     "name": "stdin",
     "output_type": "stream",
     "text": [
      "Enter your choice (1-6):  1\n",
      "Enter Roll Number:  3\n",
      "Enter Name:  sathya\n",
      "Enter Age:  21\n"
     ]
    },
    {
     "name": "stdout",
     "output_type": "stream",
     "text": [
      "Student with roll number 3 added successfully.\n",
      "\n",
      "Student Management System\n",
      "1. Add Student\n",
      "2. Display Students\n",
      "3. Search Student\n",
      "4. Delete Student\n",
      "5. Update Student\n",
      "6. Exit\n"
     ]
    },
    {
     "name": "stdin",
     "output_type": "stream",
     "text": [
      "Enter your choice (1-6):  1\n",
      "Enter Roll Number:  4\n",
      "Enter Name:  murthy\n",
      "Enter Age:  21\n"
     ]
    },
    {
     "name": "stdout",
     "output_type": "stream",
     "text": [
      "Student with roll number 4 added successfully.\n",
      "\n",
      "Student Management System\n",
      "1. Add Student\n",
      "2. Display Students\n",
      "3. Search Student\n",
      "4. Delete Student\n",
      "5. Update Student\n",
      "6. Exit\n"
     ]
    },
    {
     "name": "stdin",
     "output_type": "stream",
     "text": [
      "Enter your choice (1-6):  1\n",
      "Enter Roll Number:  5\n",
      "Enter Name:  lochan\n",
      "Enter Age:  23\n"
     ]
    },
    {
     "name": "stdout",
     "output_type": "stream",
     "text": [
      "Student with roll number 5 added successfully.\n",
      "\n",
      "Student Management System\n",
      "1. Add Student\n",
      "2. Display Students\n",
      "3. Search Student\n",
      "4. Delete Student\n",
      "5. Update Student\n",
      "6. Exit\n"
     ]
    },
    {
     "name": "stdin",
     "output_type": "stream",
     "text": [
      "Enter your choice (1-6):  2\n"
     ]
    },
    {
     "name": "stdout",
     "output_type": "stream",
     "text": [
      "List of Students:\n",
      "Roll Number: 1, Name: rohit, Age: 20\n",
      "Roll Number: 2, Name: vihan, Age: 20\n",
      "Roll Number: 3, Name: sathya, Age: 21\n",
      "Roll Number: 4, Name: murthy, Age: 21\n",
      "Roll Number: 5, Name: lochan, Age: 23\n",
      "\n",
      "Student Management System\n",
      "1. Add Student\n",
      "2. Display Students\n",
      "3. Search Student\n",
      "4. Delete Student\n",
      "5. Update Student\n",
      "6. Exit\n"
     ]
    },
    {
     "name": "stdin",
     "output_type": "stream",
     "text": [
      "Enter your choice (1-6):  3\n",
      "Enter Roll Number to search:  3\n"
     ]
    },
    {
     "name": "stdout",
     "output_type": "stream",
     "text": [
      "Roll Number: 3, Name: sathya, Age: 21\n",
      "\n",
      "Student Management System\n",
      "1. Add Student\n",
      "2. Display Students\n",
      "3. Search Student\n",
      "4. Delete Student\n",
      "5. Update Student\n",
      "6. Exit\n"
     ]
    },
    {
     "name": "stdin",
     "output_type": "stream",
     "text": [
      "Enter your choice (1-6):  4\n",
      "Enter Roll Number to delete:  4\n"
     ]
    },
    {
     "name": "stdout",
     "output_type": "stream",
     "text": [
      "Student with roll number 4 deleted successfully.\n",
      "\n",
      "Student Management System\n",
      "1. Add Student\n",
      "2. Display Students\n",
      "3. Search Student\n",
      "4. Delete Student\n",
      "5. Update Student\n",
      "6. Exit\n"
     ]
    },
    {
     "name": "stdin",
     "output_type": "stream",
     "text": [
      "Enter your choice (1-6):  2\n"
     ]
    },
    {
     "name": "stdout",
     "output_type": "stream",
     "text": [
      "List of Students:\n",
      "Roll Number: 1, Name: rohit, Age: 20\n",
      "Roll Number: 2, Name: vihan, Age: 20\n",
      "Roll Number: 3, Name: sathya, Age: 21\n",
      "Roll Number: 5, Name: lochan, Age: 23\n",
      "\n",
      "Student Management System\n",
      "1. Add Student\n",
      "2. Display Students\n",
      "3. Search Student\n",
      "4. Delete Student\n",
      "5. Update Student\n",
      "6. Exit\n"
     ]
    },
    {
     "name": "stdin",
     "output_type": "stream",
     "text": [
      "Enter your choice (1-6):  6\n"
     ]
    }
   ],
   "source": [
    "class StudentManagementSystem:\n",
    "    def __init__(self):\n",
    "        self.students = {}\n",
    "\n",
    "    def add_student(self):\n",
    "        roll_number = int(input(\"Enter Roll Number: \"))\n",
    "        name = input(\"Enter Name: \")\n",
    "        age = int(input(\"Enter Age: \"))\n",
    "        self.students[roll_number] = {'name': name, 'age': age}\n",
    "        print(f\"Student with roll number {roll_number} added successfully.\")\n",
    "\n",
    "    def display_students(self):\n",
    "        if not self.students:\n",
    "            print(\"No students in the system.\")\n",
    "        else:\n",
    "            print(\"List of Students:\")\n",
    "            for roll_number, info in self.students.items():\n",
    "                print(f\"Roll Number: {roll_number}, Name: {info['name']}, Age: {info['age']}\")\n",
    "\n",
    "    def search_student(self, roll_number):\n",
    "        if roll_number in self.students:\n",
    "            info = self.students[roll_number]\n",
    "            print(f\"Roll Number: {roll_number}, Name: {info['name']}, Age: {info['age']}\")\n",
    "        else:\n",
    "            print(f\"Student with roll number {roll_number} not found.\")\n",
    "\n",
    "    def delete_student(self, roll_number):\n",
    "        if roll_number in self.students:\n",
    "            del self.students[roll_number]\n",
    "            print(f\"Student with roll number {roll_number} deleted successfully.\")\n",
    "        else:\n",
    "            print(f\"Student with roll number {roll_number} not found.\")\n",
    "\n",
    "    def update_student(self, roll_number):\n",
    "        if roll_number in self.students:\n",
    "            name = input(\"Enter Updated Name: \")\n",
    "            age = int(input(\"Enter Updated Age: \"))\n",
    "            self.students[roll_number] = {'name': name, 'age': age}\n",
    "            print(f\"Student with roll number {roll_number} updated successfully.\")\n",
    "        else:\n",
    "            print(f\"Student with roll number {roll_number} not found.\")\n",
    "\n",
    "# Main menu\n",
    "sms = StudentManagementSystem()\n",
    "while True:\n",
    "    print(\"\\nStudent Management System\")\n",
    "    print(\"1. Add Student\")\n",
    "    print(\"2. Display Students\")\n",
    "    print(\"3. Search Student\")\n",
    "    print(\"4. Delete Student\")\n",
    "    print(\"5. Update Student\")\n",
    "    print(\"6. Exit\")\n",
    "\n",
    "    choice = input(\"Enter your choice (1-6): \")\n",
    "\n",
    "    if choice == '1':\n",
    "        sms.add_student()\n",
    "    elif choice == '2':\n",
    "        sms.display_students()\n",
    "    elif choice == '3':\n",
    "        roll = int(input(\"Enter Roll Number to search: \"))\n",
    "        sms.search_student(roll)\n",
    "    elif choice == '4':\n",
    "        roll = int(input(\"Enter Roll Number to delete: \"))\n",
    "        sms.delete_student(roll)\n",
    "    elif choice == '5':\n",
    "        roll = int(input(\"Enter Roll Number to update: \"))\n",
    "        sms.update_student(roll)\n",
    "    elif choice == '6':\n",
    "        break\n",
    "    else:\n",
    "        print(\"Invalid choice. Please enter a number between 1 and 6\")"
   ]
  },
  {
   "cell_type": "code",
   "execution_count": null,
   "id": "50eab996-e2c3-44d5-9202-51d3c4647cd4",
   "metadata": {},
   "outputs": [],
   "source": []
  }
 ],
 "metadata": {
  "kernelspec": {
   "display_name": "Python 3 (ipykernel)",
   "language": "python",
   "name": "python3"
  },
  "language_info": {
   "codemirror_mode": {
    "name": "ipython",
    "version": 3
   },
   "file_extension": ".py",
   "mimetype": "text/x-python",
   "name": "python",
   "nbconvert_exporter": "python",
   "pygments_lexer": "ipython3",
   "version": "3.11.7"
  }
 },
 "nbformat": 4,
 "nbformat_minor": 5
}
