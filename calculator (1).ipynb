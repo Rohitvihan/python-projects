{
 "cells": [
  {
   "cell_type": "code",
   "execution_count": null,
   "id": "cb1da2a0-94d2-4566-b3d7-7c56eb0a674e",
   "metadata": {},
   "outputs": [
    {
     "name": "stdout",
     "output_type": "stream",
     "text": [
      "1.addition\n",
      "2.subraction\n",
      "3.multiplication\n",
      "4.division\n"
     ]
    },
    {
     "name": "stdin",
     "output_type": "stream",
     "text": [
      "enter the 1st number: 12.5\n",
      "enter the second number: 23.4\n",
      "enter the choice b/w 1-4: 1\n"
     ]
    },
    {
     "name": "stdout",
     "output_type": "stream",
     "text": [
      "35.9\n"
     ]
    },
    {
     "name": "stdin",
     "output_type": "stream",
     "text": [
      "enter the 1st number: 12.5\n",
      "enter the second number: 23.4\n",
      "enter the choice b/w 1-4: 2\n"
     ]
    },
    {
     "name": "stdout",
     "output_type": "stream",
     "text": [
      "-10.899999999999999\n"
     ]
    },
    {
     "name": "stdin",
     "output_type": "stream",
     "text": [
      "enter the 1st number: 12.5\n",
      "enter the second number: 23.4\n",
      "enter the choice b/w 1-4: 3\n"
     ]
    },
    {
     "name": "stdout",
     "output_type": "stream",
     "text": [
      "292.5\n"
     ]
    },
    {
     "name": "stdin",
     "output_type": "stream",
     "text": [
      "enter the 1st number: 12.5\n",
      "enter the second number: 23.4\n",
      "enter the choice b/w 1-4: 4\n"
     ]
    },
    {
     "name": "stdout",
     "output_type": "stream",
     "text": [
      "0.5341880341880342\n"
     ]
    }
   ],
   "source": [
    "print(\"1.addition\")\n",
    "print(\"2.subraction\")\n",
    "print(\"3.multiplication\")\n",
    "print(\"4.division\")\n",
    "while True:\n",
    "    num1=float(input(\"enter the 1st number:\"))\n",
    "    num2=float(input(\"enter the second number:\"))\n",
    "    choice=int(input(\"enter the choice b/w 1-4:\"))\n",
    "    if choice==1:\n",
    "        print(num1+num2)\n",
    "    elif choice==2:\n",
    "        print(num1-num2)\n",
    "    elif choice==3:\n",
    "        print(num1*num2)\n",
    "    elif choice==4:\n",
    "        print(num1/num2)\n",
    "    else:\n",
    "        print(\"invalid choice\")\n",
    "        "
   ]
  },
  {
   "cell_type": "code",
   "execution_count": null,
   "id": "b4c6bed3-7e29-4d26-a423-096aec29655d",
   "metadata": {},
   "outputs": [],
   "source": []
  }
 ],
 "metadata": {
  "kernelspec": {
   "display_name": "Python 3 (ipykernel)",
   "language": "python",
   "name": "python3"
  },
  "language_info": {
   "codemirror_mode": {
    "name": "ipython",
    "version": 3
   },
   "file_extension": ".py",
   "mimetype": "text/x-python",
   "name": "python",
   "nbconvert_exporter": "python",
   "pygments_lexer": "ipython3",
   "version": "3.11.7"
  }
 },
 "nbformat": 4,
 "nbformat_minor": 5
}
