{
 "cells": [
  {
   "cell_type": "code",
   "execution_count": 1,
   "id": "64101bc7-eed4-477d-83a4-35f2dd482aae",
   "metadata": {},
   "outputs": [],
   "source": [
    "#QR Code generator\n",
    "#\"a single QR code can hold upto 4296 characters & 7089 digits\"\n",
    "\n",
    "import qrcode\n",
    "\n",
    "myqr=qrcode.make(\"https://www.youtube.com/watch?v=PyDn2gU9DJo\")\n",
    "myqr.save(\"myqr.png\")\n"
   ]
  },
  {
   "cell_type": "code",
   "execution_count": 2,
   "id": "a746ef37-22d9-4d47-825c-50083b8ea837",
   "metadata": {},
   "outputs": [
    {
     "name": "stdout",
     "output_type": "stream",
     "text": [
      "Defaulting to user installation because normal site-packages is not writeable\n",
      "Requirement already satisfied: qrcode in c:\\users\\rohit\\appdata\\roaming\\python\\python311\\site-packages (8.0)\n",
      "Requirement already satisfied: colorama in c:\\programdata\\anaconda3\\lib\\site-packages (from qrcode) (0.4.6)\n"
     ]
    }
   ],
   "source": [
    "!pip install qrcode"
   ]
  },
  {
   "cell_type": "code",
   "execution_count": 8,
   "id": "1ab925e4-e609-49a6-8529-cdacb75848d5",
   "metadata": {},
   "outputs": [],
   "source": [
    "#QR Code generator\n",
    "#\"a single QR code can hold upto 4296 characters & 7089 digits\"\n",
    "\n",
    "import qrcode\n",
    "\n",
    "myqr=qrcode.make(\"https://www.youtube.com/watch?v=PyDn2gU9DJo\")\n",
    "myqr.save(\"myqr.png\")\n"
   ]
  },
  {
   "cell_type": "code",
   "execution_count": null,
   "id": "8a75b0a1-103b-4e95-8f87-57937c474ebd",
   "metadata": {},
   "outputs": [],
   "source": []
  }
 ],
 "metadata": {
  "kernelspec": {
   "display_name": "Python 3 (ipykernel)",
   "language": "python",
   "name": "python3"
  },
  "language_info": {
   "codemirror_mode": {
    "name": "ipython",
    "version": 3
   },
   "file_extension": ".py",
   "mimetype": "text/x-python",
   "name": "python",
   "nbconvert_exporter": "python",
   "pygments_lexer": "ipython3",
   "version": "3.11.7"
  }
 },
 "nbformat": 4,
 "nbformat_minor": 5
}
