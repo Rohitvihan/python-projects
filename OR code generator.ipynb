{
 "cells": [
  {
   "cell_type": "code",
   "execution_count": 1,
   "id": "64101bc7-eed4-477d-83a4-35f2dd482aae",
   "metadata": {},
   "outputs": [],
   "source": [
    "#QR Code generator\n",
    "#\"a single QR code can hold upto 4296 characters & 7089 digits\"\n",
    "\n",
    "import qrcode\n",
    "from pyzbar.pyzbar import decode\n",
    "from PIL import Image # from pillow\n",
    "\n",
    "myqr=qrcode.make(\"https://www.youtube.com/watch?v=PyDn2gU9DJo\")\n",
    "myqr.save(\"myqr.png\",scale=8)\n",
    "\n",
    "myqr1=qrcode.make(\"https://www.simplilearn.com/?utm_source=bing&utm_medium=cpc&utm_term=simplilearn&utm_content=392503905-1320514564874663-&utm_device=c&utm_campaign=B-Search-Brand-Exact-IN-AllDevice-adgroup-Brand-Simplilearn&msclkid=1de600e3ef771742a9156775d697dd6e\")\n",
    "myqr1.save(\"myqr1.png\",scale=7)\n",
    "\n",
    "b=decode(Image.open(\"myqr.png\"))\n",
    "print(b[0].data.decode(\"ascii\"))\n",
    "\n",
    "c=decode(Image.open(\"myqr1.png\"))\n",
    "print(c[0].data.decode(\"ascii\"))"
   ]
  },
  {
   "cell_type": "code",
   "execution_count": null,
   "id": "a746ef37-22d9-4d47-825c-50083b8ea837",
   "metadata": {},
   "outputs": [],
   "source": []
  }
 ],
 "metadata": {
  "kernelspec": {
   "display_name": "Python 3 (ipykernel)",
   "language": "python",
   "name": "python3"
  },
  "language_info": {
   "codemirror_mode": {
    "name": "ipython",
    "version": 3
   },
   "file_extension": ".py",
   "mimetype": "text/x-python",
   "name": "python",
   "nbconvert_exporter": "python",
   "pygments_lexer": "ipython3",
   "version": "3.11.7"
  }
 },
 "nbformat": 4,
 "nbformat_minor": 5
}
